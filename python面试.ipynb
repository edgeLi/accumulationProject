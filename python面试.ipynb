{
  "nbformat": 4,
  "nbformat_minor": 0,
  "metadata": {
    "colab": {
      "name": "Untitled2.ipynb",
      "provenance": [],
      "include_colab_link": true
    },
    "kernelspec": {
      "name": "python3",
      "display_name": "Python 3"
    }
  },
  "cells": [
    {
      "cell_type": "markdown",
      "metadata": {
        "id": "view-in-github",
        "colab_type": "text"
      },
      "source": [
        "<a href=\"https://colab.research.google.com/github/edgeLi/accumulationProject/blob/master/python%E9%9D%A2%E8%AF%95.ipynb\" target=\"_parent\"><img src=\"https://colab.research.google.com/assets/colab-badge.svg\" alt=\"Open In Colab\"/></a>"
      ]
    },
    {
      "cell_type": "markdown",
      "metadata": {
        "id": "LVN0Wh3nahzj",
        "colab_type": "text"
      },
      "source": [
        "1.面向对象中super的作用?\n",
        "\n",
        "  super() 函数是用于调用父类(超类)的一个方法。\n",
        "  \n",
        "  super 是用来解决多重继承问题的，直接用类名调用父类方法在使用单继承的时候没问题，但是如果使用多继承，会涉及到查找顺序（MRO）、重复调用（钻石继承）等种种问题"
      ]
    },
    {
      "cell_type": "markdown",
      "metadata": {
        "id": "_Aj_Jg9wa3Du",
        "colab_type": "text"
      },
      "source": [
        "2.是否使用过functools中的函数？其作用是什么？\n",
        "\n",
        "functools 模块提供了许多改写或拓展函数或其他可调用对象的工具，而无需完全重写它们.\n",
        "\n",
        "functools 模块中提供的主要工具是 partial 类，它可以用来包装一个可调用对象，使其具有默认参数"
      ]
    },
    {
      "cell_type": "markdown",
      "metadata": {
        "id": "iUymy87bfkwf",
        "colab_type": "text"
      },
      "source": [
        "3.如何判断是函数还是方法？\n",
        "\n",
        "通过类方法调用为函数，通过实例化对象调用为方法"
      ]
    },
    {
      "cell_type": "markdown",
      "metadata": {
        "id": "h6G-skvOO3ZU",
        "colab_type": "text"
      },
      "source": [
        "4.实例方法、静态方法和类方法区别？\n",
        "\n",
        "实例方法只能被实例对象调用，静态方法(由@staticmethod装饰的方法)、类方法(由@classmethod装饰的方法)，可以被类或类的实例对象调用。\n",
        "实例方法，第一个参数必须要默认传实例对象，一般习惯用self。\n",
        "静态方法，参数没有要求。\n",
        "类方法，第一个参数必须要默认传类，一般习惯用cls"
      ]
    },
    {
      "cell_type": "markdown",
      "metadata": {
        "id": "jcLuhGoAQVqk",
        "colab_type": "text"
      },
      "source": [
        "5.Python中__new__和__init__区别\n",
        "\n",
        "__new__:创建对象时调用，会返回当前对象的一个实例\n",
        "\n",
        "__init__:创建完对象后调用，对当前对象的一些实例初始化，无返回值"
      ]
    },
    {
      "cell_type": "markdown",
      "metadata": {
        "id": "zcFyfl6wQZQf",
        "colab_type": "text"
      },
      "source": [
        ""
      ]
    }
  ]
}